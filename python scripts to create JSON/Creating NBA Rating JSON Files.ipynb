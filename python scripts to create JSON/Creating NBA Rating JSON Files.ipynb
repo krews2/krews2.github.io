{
 "cells": [
  {
   "cell_type": "code",
   "execution_count": 1,
   "id": "7b8ed67b-6ddd-4519-b4c5-1fddb20fdf15",
   "metadata": {},
   "outputs": [],
   "source": [
    "import pandas as pd\n",
    "import glob\n",
    "import os\n",
    "from json import loads, dumps\n",
    "import json\n",
    "\n",
    "\n",
    "\n",
    "#combining all the daily gamelogs csv files pulled\n",
    "path = 'filepath' \n",
    "all_files = glob.glob(os.path.join(path , \"*.csv\"))\n",
    "\n",
    "li = []\n",
    "\n",
    "for filename in all_files:\n",
    "    df = pd.read_csv(filename, index_col=None, header=0)\n",
    "    li.append(df)\n",
    "\n",
    "dfall = pd.concat(li, axis=0, ignore_index=True)"
   ]
  },
  {
   "cell_type": "code",
   "execution_count": 2,
   "id": "8d696083-6fc5-4d48-aa8d-6d2652117de1",
   "metadata": {},
   "outputs": [],
   "source": [
    "dfall['GAME_DATE']=dfall['GAME_DATE'].apply(pd.to_datetime)"
   ]
  },
  {
   "cell_type": "code",
   "execution_count": 3,
   "id": "e1e88e24-1555-448c-bacf-a28a0b2c4fbb",
   "metadata": {},
   "outputs": [],
   "source": [
    "dfallsort=dfall.sort_values(by=['GAME_DATE','GAME_ID']).reset_index(drop=True)"
   ]
  },
  {
   "cell_type": "code",
   "execution_count": 4,
   "id": "f785c8c9-a701-4cba-a6ea-a6b77e042b9e",
   "metadata": {},
   "outputs": [],
   "source": [
    "dfgamenum = dfallsort.copy()"
   ]
  },
  {
   "cell_type": "code",
   "execution_count": 5,
   "id": "533c1503-3cf7-4b4d-844c-297aad4ac88b",
   "metadata": {},
   "outputs": [],
   "source": [
    "dfgamenum['GAME_NO']=dfgamenum.groupby(['TEAM_ID'])['GAME_DATE'].cumcount() + 1"
   ]
  },
  {
   "cell_type": "code",
   "execution_count": 6,
   "id": "4b5ac152-ecc1-44cb-97ea-3bd049e9d72e",
   "metadata": {},
   "outputs": [],
   "source": [
    "dfgamenum=dfgamenum.copy()\n",
    "dfdata=dfgamenum"
   ]
  },
  {
   "cell_type": "code",
   "execution_count": 7,
   "id": "71e94577-57af-47e6-8b31-d848846bb6c9",
   "metadata": {},
   "outputs": [],
   "source": [
    "offptsvar = dfdata.groupby('TEAM_ID')['PTS'].expanding().sum().reset_index(0,drop=True)\n",
    "offposvar = dfdata.groupby('TEAM_ID')['POSS'].expanding().sum().reset_index(0,drop=True)\n",
    "\n",
    "defptsvar = dfdata.groupby('TEAM_ID')['OPP_PTS'].expanding().sum().reset_index(0,drop=True)\n",
    "defposvar = dfdata.groupby('TEAM_ID')['OPP_POSS'].expanding().sum().reset_index(0,drop=True)"
   ]
  },
  {
   "cell_type": "code",
   "execution_count": 8,
   "id": "2ca1743f-f008-4c11-a91d-a3608d23b447",
   "metadata": {},
   "outputs": [],
   "source": [
    "dfdata['STD_OFF_RATING']=(offptsvar/offposvar)*100\n",
    "dfdata['STD_OFF_RATING']=dfdata['STD_OFF_RATING'].round(1)\n",
    "\n",
    "dfdata['STD_DEF_RATING']=(defptsvar/defposvar)*100\n",
    "dfdata['STD_DEF_RATING']=dfdata['STD_DEF_RATING'].round(1)"
   ]
  },
  {
   "cell_type": "code",
   "execution_count": 9,
   "id": "cc00f05c-c037-489d-904e-ef41ea57bd01",
   "metadata": {},
   "outputs": [],
   "source": [
    "#Creating JSON to reference for last N Games\n",
    "dfarray = dfdata[[\"TEAM_CITY\",\"GAME_NO\",\"PTS\",\"POSS\",\"OPP_PTS\",\"OPP_POSS\"]]\n",
    "\n",
    "\n",
    "dflastn=dfarray.groupby(['TEAM_CITY'])[['TEAM_CITY',\"GAME_NO\",\"PTS\",\"POSS\",\"OPP_PTS\",\"OPP_POSS\"]].apply(lambda x: x.to_dict('records')).reset_index(name=\"TEAMS\")\n",
    "dfarraygrouplastn=dflastn[[\"TEAMS\"]]\n"
   ]
  },
  {
   "cell_type": "code",
   "execution_count": 10,
   "id": "b0c61fbc-4b4f-4340-9a29-add8c9bc8716",
   "metadata": {},
   "outputs": [],
   "source": [
    "dfarraygroupjsonlastn= dfarraygrouplastn.to_json(orient=\"records\")\n"
   ]
  },
  {
   "cell_type": "code",
   "execution_count": 11,
   "id": "18c96d26-7d38-45ad-8ef5-1a185501350f",
   "metadata": {},
   "outputs": [],
   "source": [
    "parsedjsonlastn = json.loads(dfarraygroupjsonlastn)\n"
   ]
  },
  {
   "cell_type": "code",
   "execution_count": 12,
   "id": "44616866-75d0-4df8-b92b-dc4498bbc65c",
   "metadata": {},
   "outputs": [],
   "source": [
    "dflg=dfdata[['GAME_NO','PTS','POSS']]"
   ]
  },
  {
   "cell_type": "code",
   "execution_count": 13,
   "id": "c6670013-ad34-41ff-af36-f294b6d117dd",
   "metadata": {},
   "outputs": [],
   "source": [
    "dflg=dflg.groupby(\"GAME_NO\").sum().reset_index()"
   ]
  },
  {
   "cell_type": "code",
   "execution_count": 14,
   "id": "ec9dede1-d498-4e0d-b904-e1fbc2eec3cf",
   "metadata": {},
   "outputs": [],
   "source": [
    "dflg['PTS']=dflg['PTS'].cumsum()\n",
    "dflg['POSS']=dflg['POSS'].cumsum()"
   ]
  },
  {
   "cell_type": "code",
   "execution_count": 15,
   "id": "4bf34914-c0a0-4f15-aed5-3c66eeb41f5c",
   "metadata": {},
   "outputs": [],
   "source": [
    "dflg=dflg.copy()"
   ]
  },
  {
   "cell_type": "code",
   "execution_count": 16,
   "id": "468eb91d-57bc-4e35-b5e1-39b313af4ee0",
   "metadata": {},
   "outputs": [],
   "source": [
    "dflg['RTG']=(dflg['PTS']/dflg['POSS'])*100\n"
   ]
  },
  {
   "cell_type": "code",
   "execution_count": 17,
   "id": "17f41f68-3108-440c-bd55-ba48aa265cc0",
   "metadata": {},
   "outputs": [],
   "source": [
    "#Rankign calcuation\n",
    "\n",
    "dfrankingdata=dfgamenum\n",
    "dfrankingdata['STD_OFF_RATING']=(offptsvar/offposvar)*100\n",
    "dfrankingdata['STD_OFF_RATING']=dfrankingdata['STD_OFF_RATING']\n",
    "\n",
    "dfrankingdata['STD_DEF_RATING']=(defptsvar/defposvar)*100\n",
    "dfrankingdata['STD_DEF_RATING']=dfrankingdata['STD_DEF_RATING']\n",
    "\n",
    "dflastgame = dfrankingdata.sort_values('GAME_NO').groupby('TEAM_CITY').tail(1).reset_index(drop=\"True\")\n",
    "\n",
    "dfrank = dflastgame[[\"TEAM_CITY\",\"STD_OFF_RATING\",\"STD_DEF_RATING\"]]\n",
    "\n",
    "dfrank=dfrank.copy()\n",
    "dfrank['DEF_RANKING'] = dfrank['STD_DEF_RATING'].rank().astype(int)\n",
    "dfrank['OFF_RANKING'] = dfrank['STD_OFF_RATING'].rank(ascending=False).astype(int)"
   ]
  },
  {
   "cell_type": "code",
   "execution_count": 18,
   "id": "864e43ae-102c-47c7-ba66-d61ef7219403",
   "metadata": {},
   "outputs": [],
   "source": [
    "#Creating Json for Team Rank for Off and Def Rating\n",
    "dfrankcols = dfrank[['TEAM_CITY','OFF_RANKING','DEF_RANKING']]\n",
    "dfrankcols=dfrankcols.copy()\n",
    "dfrankcols.sort_values(by='TEAM_CITY',inplace=True)"
   ]
  },
  {
   "cell_type": "code",
   "execution_count": 19,
   "id": "f19a9c35-8fc7-4545-b370-5bac833fd571",
   "metadata": {},
   "outputs": [],
   "source": [
    "dfrankcols.set_index('TEAM_CITY', inplace=True)\n",
    "dfrankjson=dfrankcols.to_json(orient=\"index\")\n",
    "dfrankparsed = json.loads(dfrankjson)"
   ]
  },
  {
   "cell_type": "code",
   "execution_count": 20,
   "id": "b5ab68b1-e3bc-4006-aafc-0d7dddc5f7ed",
   "metadata": {},
   "outputs": [],
   "source": [
    "dfdatajsoncols = dfdata[['GAME_ID', 'TEAM_ID', 'TEAM_NAME', 'TEAM_ABBREVIATION', 'TEAM_CITY',\n",
    "                         'POSS', 'GAME_DATE', 'PTS', 'OPP_TEAM_ID', \n",
    "                         'OPP_PTS', 'OPP_POSS', 'OPP_TEAM_NAME', 'OPP_TEAM_ABBERVIATION',\n",
    "                         'OPP_TEAM_CITY', 'GAME_NO', 'STD_OFF_RATING', 'STD_DEF_RATING']]"
   ]
  },
  {
   "cell_type": "code",
   "execution_count": 21,
   "id": "8fafe6e6-69e1-4602-b4ff-7c5439966a2d",
   "metadata": {},
   "outputs": [],
   "source": [
    "dfdatajsoncols=dfdatajsoncols.copy()\n",
    "\n",
    "dfdatajsoncols['GAME_DATE'] = dfdatajsoncols['GAME_DATE'].astype(str)"
   ]
  },
  {
   "cell_type": "code",
   "execution_count": 22,
   "id": "2f59affd-4255-48c0-9038-4130946abd2f",
   "metadata": {},
   "outputs": [],
   "source": [
    "cols=['GAME_ID','POSS', 'GAME_DATE', 'PTS', 'OPP_TEAM_ID', \n",
    "                         'OPP_PTS', 'OPP_POSS', 'OPP_TEAM_NAME', 'OPP_TEAM_ABBERVIATION',\n",
    "                         'OPP_TEAM_CITY', 'GAME_NO', 'STD_OFF_RATING', 'STD_DEF_RATING']"
   ]
  },
  {
   "cell_type": "code",
   "execution_count": 23,
   "id": "752a09fa-44cd-44e2-9e15-1fecaf731e17",
   "metadata": {},
   "outputs": [],
   "source": [
    "dfb=dfdatajsoncols.groupby(['TEAM_NAME','TEAM_ID','TEAM_CITY','TEAM_ABBREVIATION'])[cols].apply(lambda x: x.to_dict('records')).reset_index(name='GAME_INFO')"
   ]
  },
  {
   "cell_type": "code",
   "execution_count": 24,
   "id": "b365b6cd-1bad-4d29-9108-a80079d5a5eb",
   "metadata": {},
   "outputs": [],
   "source": [
    "dflg2= dflg[['GAME_NO','RTG']]"
   ]
  },
  {
   "cell_type": "code",
   "execution_count": 25,
   "id": "e3521ad5-5c44-4942-bc23-f79a15718d1e",
   "metadata": {},
   "outputs": [],
   "source": [
    "jsonlgavgdata=dflg2.to_json(orient=\"records\")"
   ]
  },
  {
   "cell_type": "code",
   "execution_count": 26,
   "id": "3f17d0af-5b29-41b8-a277-172a41deac97",
   "metadata": {},
   "outputs": [],
   "source": [
    "dfb.set_index('TEAM_CITY', inplace=True)"
   ]
  },
  {
   "cell_type": "code",
   "execution_count": 27,
   "id": "2f9c92f9-400f-4bbb-9b4f-25a51e218ca3",
   "metadata": {},
   "outputs": [],
   "source": [
    "jsondata=dfb.to_json(orient=\"index\")\n"
   ]
  },
  {
   "cell_type": "code",
   "execution_count": 28,
   "id": "e913fd9d-c2f7-4835-9ccc-9e70dc7bde0e",
   "metadata": {},
   "outputs": [],
   "source": [
    "parsed = json.loads(jsondata)\n"
   ]
  },
  {
   "cell_type": "code",
   "execution_count": 29,
   "id": "40983c73-d934-489f-b52e-341a16b40b61",
   "metadata": {},
   "outputs": [],
   "source": [
    "\n",
    "\n",
    "parsedlgavg = json.loads(jsonlgavgdata)\n"
   ]
  },
  {
   "cell_type": "code",
   "execution_count": 30,
   "id": "ce09526f-3bd0-452b-b972-1a57fa831b89",
   "metadata": {},
   "outputs": [],
   "source": [
    "#combine jsons into single JSON to reference\n",
    "combined = [parsedlgavg, parsed,parsedjsonlastn ,dfrankparsed]"
   ]
  },
  {
   "cell_type": "code",
   "execution_count": 31,
   "id": "8d8579bd-910a-4d49-b0d3-78cb8290ceb8",
   "metadata": {},
   "outputs": [],
   "source": [
    "\n",
    "with open('filepath', 'w', encoding='utf-8') as f:\n",
    "    json.dump(combined, f, ensure_ascii=False)"
   ]
  },
  {
   "cell_type": "code",
   "execution_count": null,
   "id": "b679091c-2cc2-446e-acda-06af27df4851",
   "metadata": {},
   "outputs": [],
   "source": []
  },
  {
   "cell_type": "code",
   "execution_count": null,
   "id": "7b95a719-b1b1-4370-b987-b9fad191f815",
   "metadata": {},
   "outputs": [],
   "source": []
  },
  {
   "cell_type": "code",
   "execution_count": null,
   "id": "eadf9cd7-4254-4145-9df9-2612c705e181",
   "metadata": {},
   "outputs": [],
   "source": []
  }
 ],
 "metadata": {
  "kernelspec": {
   "display_name": "Python 3 (ipykernel)",
   "language": "python",
   "name": "python3"
  },
  "language_info": {
   "codemirror_mode": {
    "name": "ipython",
    "version": 3
   },
   "file_extension": ".py",
   "mimetype": "text/x-python",
   "name": "python",
   "nbconvert_exporter": "python",
   "pygments_lexer": "ipython3",
   "version": "3.12.7"
  }
 },
 "nbformat": 4,
 "nbformat_minor": 5
}
